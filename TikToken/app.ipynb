{
 "cells": [
  {
   "cell_type": "markdown",
   "metadata": {},
   "source": [
    "# Learning TikToken\n",
    "\n",
    "- tiktoken is a fast open-source tokenizer by OpenAI."
   ]
  },
  {
   "cell_type": "code",
   "execution_count": 1,
   "metadata": {},
   "outputs": [],
   "source": [
    "import tiktoken"
   ]
  },
  {
   "cell_type": "code",
   "execution_count": 2,
   "metadata": {},
   "outputs": [
    {
     "name": "stdout",
     "output_type": "stream",
     "text": [
      "Version of TikToken: 0.9.0\n"
     ]
    }
   ],
   "source": [
    "print(\"Version of TikToken:\", tiktoken.__version__)"
   ]
  },
  {
   "cell_type": "code",
   "execution_count": 3,
   "metadata": {},
   "outputs": [],
   "source": [
    "# ENCODING_NAME: str = \"r50k_base\"\n",
    "# ENCODING_NAME: str = \"p50k_base\"\n",
    "# ENCODING_NAME: str = \"cl100k_base\"\n",
    "ENCODING_NAME: str = \"o200k_base\""
   ]
  },
  {
   "cell_type": "markdown",
   "metadata": {},
   "source": [
    "### When you want to using a new encoding, We must wait until the related files downloaded!\n",
    "\n",
    "- It takes about 3 to 6 minutes downloading each encoding related file(s)!"
   ]
  },
  {
   "cell_type": "code",
   "execution_count": 4,
   "metadata": {},
   "outputs": [],
   "source": [
    "text: str = \"Hello, World!\"\n",
    "\n",
    "encoding = tiktoken.get_encoding(encoding_name=ENCODING_NAME)\n",
    "assert encoding.decode(tokens=encoding.encode(text=text)) == text"
   ]
  },
  {
   "cell_type": "code",
   "execution_count": 5,
   "metadata": {},
   "outputs": [
    {
     "name": "stdout",
     "output_type": "stream",
     "text": [
      "Tokens: [13225, 11, 5922, 0]\n"
     ]
    }
   ],
   "source": [
    "encoding = tiktoken.get_encoding(encoding_name=ENCODING_NAME)\n",
    "tokens: list[int] = encoding.encode(text=text)\n",
    "\n",
    "print(\"Tokens:\", tokens)"
   ]
  },
  {
   "cell_type": "code",
   "execution_count": 6,
   "metadata": {},
   "outputs": [
    {
     "name": "stdout",
     "output_type": "stream",
     "text": [
      "Tokens count: 4\n"
     ]
    }
   ],
   "source": [
    "print(\"Tokens count:\", len(tokens))"
   ]
  },
  {
   "cell_type": "code",
   "execution_count": 7,
   "metadata": {},
   "outputs": [
    {
     "name": "stdout",
     "output_type": "stream",
     "text": [
      "b'Hello'\n"
     ]
    }
   ],
   "source": [
    "decoded = encoding.decode_single_token_bytes(token=tokens[0])\n",
    "\n",
    "print(decoded)"
   ]
  },
  {
   "cell_type": "code",
   "execution_count": 8,
   "metadata": {},
   "outputs": [
    {
     "name": "stdout",
     "output_type": "stream",
     "text": [
      "13225      b'Hello'\n",
      "11         b','\n",
      "5922       b' World'\n",
      "0          b'!'\n"
     ]
    }
   ],
   "source": [
    "for token in tokens:\n",
    "    decoded_token_bytes = encoding.decode_single_token_bytes(token=token)\n",
    "\n",
    "    # print(token, decoded_token_bytes)\n",
    "    print(str(token).ljust(10, \" \"), decoded_token_bytes)"
   ]
  },
  {
   "cell_type": "code",
   "execution_count": 9,
   "metadata": {},
   "outputs": [
    {
     "name": "stdout",
     "output_type": "stream",
     "text": [
      "13225      Hello      b'Hello'\n",
      "11         ,          b','\n",
      "5922       _World     b' World'\n",
      "0          !          b'!'\n"
     ]
    }
   ],
   "source": [
    "for token in tokens:\n",
    "    decoded_token_bytes = encoding.decode_single_token_bytes(token=token)\n",
    "\n",
    "    # decoded_token_string = decoded_token_bytes.decode(encoding=\"utf-8\")\n",
    "    decoded_token_string = decoded_token_bytes.decode(encoding=\"utf-8\").replace(\n",
    "        \" \", \"_\"\n",
    "    )\n",
    "\n",
    "    print(\n",
    "        str(token).ljust(10, \" \"),\n",
    "        decoded_token_string.ljust(10, \" \"),\n",
    "        decoded_token_bytes,\n",
    "    )"
   ]
  },
  {
   "cell_type": "code",
   "execution_count": 10,
   "metadata": {},
   "outputs": [
    {
     "name": "stdout",
     "output_type": "stream",
     "text": [
      "[13225, 11, 5922, 0]\n"
     ]
    }
   ],
   "source": [
    "ENCODING_NAME: str = \"gpt-4o-mini\"\n",
    "\n",
    "encoding = tiktoken.encoding_for_model(model_name=ENCODING_NAME)\n",
    "encoded_text = tokens = encoding.encode(text=text)\n",
    "\n",
    "print(encoded_text)"
   ]
  },
  {
   "cell_type": "code",
   "execution_count": 11,
   "metadata": {},
   "outputs": [
    {
     "name": "stdout",
     "output_type": "stream",
     "text": [
      "[13225, 11, 5922, 0]\n"
     ]
    }
   ],
   "source": [
    "ENCODING_NAME: str = \"gpt-4o\"\n",
    "\n",
    "encoding = tiktoken.encoding_for_model(model_name=ENCODING_NAME)\n",
    "encoded_text = tokens = encoding.encode(text=text)\n",
    "\n",
    "print(encoded_text)"
   ]
  },
  {
   "cell_type": "code",
   "execution_count": 12,
   "metadata": {},
   "outputs": [
    {
     "name": "stdout",
     "output_type": "stream",
     "text": [
      "['gpt2', 'r50k_base', 'p50k_base', 'p50k_edit', 'cl100k_base', 'o200k_base']\n"
     ]
    }
   ],
   "source": [
    "encoding_names_list = tiktoken.list_encoding_names()\n",
    "\n",
    "print(encoding_names_list)"
   ]
  }
 ],
 "metadata": {
  "kernelspec": {
   "display_name": ".venv",
   "language": "python",
   "name": "python3"
  },
  "language_info": {
   "codemirror_mode": {
    "name": "ipython",
    "version": 3
   },
   "file_extension": ".py",
   "mimetype": "text/x-python",
   "name": "python",
   "nbconvert_exporter": "python",
   "pygments_lexer": "ipython3",
   "version": "3.12.9"
  }
 },
 "nbformat": 4,
 "nbformat_minor": 2
}
