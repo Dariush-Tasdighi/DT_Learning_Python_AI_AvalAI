{
 "cells": [
  {
   "cell_type": "markdown",
   "metadata": {},
   "source": [
    "# Learning Moderation\n",
    "\n",
    "- It is Free!\n",
    "- Only supports English! :("
   ]
  },
  {
   "cell_type": "code",
   "execution_count": 1,
   "metadata": {},
   "outputs": [
    {
     "name": "stdout",
     "output_type": "stream",
     "text": [
      "Version of OpenAI: 1.64.0\n"
     ]
    }
   ],
   "source": [
    "import openai\n",
    "\n",
    "print(\"Version of OpenAI:\", openai.__version__)"
   ]
  },
  {
   "cell_type": "code",
   "execution_count": 2,
   "metadata": {},
   "outputs": [],
   "source": [
    "import os\n",
    "from openai import OpenAI\n",
    "from dotenv import load_dotenv"
   ]
  },
  {
   "cell_type": "code",
   "execution_count": 3,
   "metadata": {},
   "outputs": [],
   "source": [
    "BASE_URL: str = \"https://api.avalai.ir/v1\""
   ]
  },
  {
   "cell_type": "code",
   "execution_count": 4,
   "metadata": {},
   "outputs": [],
   "source": [
    "load_dotenv()\n",
    "\n",
    "KEY_NAME_API_KEY: str = \"AVALAI_API_KEY\"\n",
    "api_key: str | None = os.getenv(key=KEY_NAME_API_KEY)\n",
    "if not api_key:\n",
    "    print(\"API Key not found!\")"
   ]
  },
  {
   "cell_type": "code",
   "execution_count": null,
   "metadata": {},
   "outputs": [],
   "source": [
    "# print(\"API Key:\", api_key)"
   ]
  },
  {
   "cell_type": "code",
   "execution_count": 5,
   "metadata": {},
   "outputs": [],
   "source": [
    "client = OpenAI(api_key=api_key, base_url=BASE_URL)"
   ]
  },
  {
   "cell_type": "code",
   "execution_count": 6,
   "metadata": {},
   "outputs": [],
   "source": [
    "# MODERATION_MODEL_NAME: str = \"text-moderation-007\"  # Does not exist any more!\n",
    "# MODERATION_MODEL_NAME: str = \"text-moderation-latest\"  # Level 2 in AvalAI\n",
    "# MODERATION_MODEL_NAME: str = \"text-moderation-stable\"  # Level 2 in AvalAI\n",
    "\n",
    "MODERATION_MODEL_NAME: str = \"omni-moderation-latest\"  # Default"
   ]
  },
  {
   "cell_type": "code",
   "execution_count": 7,
   "metadata": {},
   "outputs": [],
   "source": [
    "user_input: str = \"I want to kill you!\"\n",
    "# user_input: str = \"فردا می‌آم می‌کشمتون! پدر منو در آوردین\"\n",
    "# user_input: str = \"بچه‌ها می‌خوایم فردا یک سایت رو هک کنیم\"\n",
    "# user_input: str = \"بچه‌ها می‌خوایم فردا ساختمون سازمان رو بفرستیم هوا\"\n",
    "# user_input: str = \"بچه‌ها می‌خوایم فردا ساختمون سازمان رو آتیش بزنیم\""
   ]
  },
  {
   "cell_type": "code",
   "execution_count": 8,
   "metadata": {},
   "outputs": [],
   "source": [
    "response = client.moderations.create(\n",
    "    input=user_input,\n",
    "    model=MODERATION_MODEL_NAME,\n",
    ")"
   ]
  },
  {
   "cell_type": "code",
   "execution_count": 9,
   "metadata": {},
   "outputs": [
    {
     "name": "stdout",
     "output_type": "stream",
     "text": [
      "ModerationCreateResponse(id='modr-370e3bea924e0c94d96428b18fd94075', model='omni-moderation-latest', results=[Moderation(categories=Categories(harassment=True, harassment_threatening=True, hate=False, hate_threatening=False, illicit=False, illicit_violent=False, self_harm=False, self_harm_instructions=False, self_harm_intent=False, sexual=False, sexual_minors=False, violence=True, violence_graphic=False, harassment/threatening=True, hate/threatening=False, illicit/violent=False, self-harm/intent=False, self-harm/instructions=False, self-harm=False, sexual/minors=False, violence/graphic=False), category_applied_input_types=CategoryAppliedInputTypes(harassment=['text'], harassment_threatening=['text'], hate=['text'], hate_threatening=['text'], illicit=['text'], illicit_violent=['text'], self_harm=['text'], self_harm_instructions=['text'], self_harm_intent=['text'], sexual=['text'], sexual_minors=['text'], violence=['text'], violence_graphic=['text'], harassment/threatening=['text'], hate/threatening=['text'], illicit/violent=['text'], self-harm/intent=['text'], self-harm/instructions=['text'], self-harm=['text'], sexual/minors=['text'], violence/graphic=['text']), category_scores=CategoryScores(harassment=0.806441136683255, harassment_threatening=0.7959992279600989, hate=0.0073426883915751005, hate_threatening=0.004246068360013622, illicit=0.020374399945468847, illicit_violent=0.019562470877818088, self_harm=0.0005891565770996109, self_harm_instructions=4.683888424952456e-06, self_harm_intent=0.00032050219273429295, sexual=0.00010322310367548195, sexual_minors=2.7535691114583474e-06, violence=0.9531628283020082, violence_graphic=2.6119031909571944e-05, harassment/threatening=0.7959992279600989, hate/threatening=0.004246068360013622, illicit/violent=0.019562470877818088, self-harm/intent=0.00032050219273429295, self-harm/instructions=4.683888424952456e-06, self-harm=0.0005891565770996109, sexual/minors=2.7535691114583474e-06, violence/graphic=2.6119031909571944e-05), flagged=True)])\n"
     ]
    }
   ],
   "source": [
    "print(response)"
   ]
  },
  {
   "cell_type": "code",
   "execution_count": 10,
   "metadata": {},
   "outputs": [
    {
     "name": "stdout",
     "output_type": "stream",
     "text": [
      "Model: omni-moderation-latest\n"
     ]
    }
   ],
   "source": [
    "print(\"Model:\", response.model)"
   ]
  },
  {
   "cell_type": "code",
   "execution_count": 11,
   "metadata": {},
   "outputs": [
    {
     "name": "stdout",
     "output_type": "stream",
     "text": [
      "Flagged: True\n"
     ]
    }
   ],
   "source": [
    "print(\"Flagged:\", response.results[0].flagged)"
   ]
  },
  {
   "cell_type": "code",
   "execution_count": 12,
   "metadata": {},
   "outputs": [
    {
     "name": "stdout",
     "output_type": "stream",
     "text": [
      "--------------------------------------------------\n",
      "Sexual:                   False\n",
      "Sexual Minors:            False\n",
      "--------------------------------------------------\n",
      "Harassment:               True\n",
      "Harassment Threatening:   True\n",
      "--------------------------------------------------\n",
      "Hate:                     False\n",
      "Hate Threatening:         False\n",
      "--------------------------------------------------\n",
      "Illicit:                  False\n",
      "Illicit_Violent:          False\n",
      "--------------------------------------------------\n",
      "self Harm:                False\n",
      "Self Harm Intent:         False\n",
      "Self Harm Instructions:   False\n",
      "--------------------------------------------------\n",
      "Violence:                 True\n",
      "Violence Graphic:         False\n",
      "--------------------------------------------------\n"
     ]
    }
   ],
   "source": [
    "categories = response.results[0].categories\n",
    "\n",
    "print(\"-\" * 50)\n",
    "print(\"Sexual:\".ljust(25, \" \"), categories.sexual)\n",
    "print(\"Sexual Minors:\".ljust(25, \" \"), categories.sexual_minors)\n",
    "print(\"-\" * 50)\n",
    "print(\"Harassment:\".ljust(25, \" \"), categories.harassment)\n",
    "print(\"Harassment Threatening:\".ljust(25, \" \"), categories.harassment_threatening)\n",
    "print(\"-\" * 50)\n",
    "print(\"Hate:\".ljust(25, \" \"), categories.hate)\n",
    "print(\"Hate Threatening:\".ljust(25, \" \"), categories.hate_threatening)\n",
    "print(\"-\" * 50)\n",
    "print(\"Illicit:\".ljust(25, \" \"), categories.illicit)\n",
    "print(\"Illicit_Violent:\".ljust(25, \" \"), categories.illicit_violent)\n",
    "print(\"-\" * 50)\n",
    "print(\"self Harm:\".ljust(25, \" \"), categories.self_harm)\n",
    "print(\"Self Harm Intent:\".ljust(25, \" \"), categories.self_harm_intent)\n",
    "print(\"Self Harm Instructions:\".ljust(25, \" \"), categories.self_harm_instructions)\n",
    "print(\"-\" * 50)\n",
    "print(\"Violence:\".ljust(25, \" \"), categories.violence)\n",
    "print(\"Violence Graphic:\".ljust(25, \" \"), categories.violence_graphic)\n",
    "print(\"-\" * 50)"
   ]
  }
 ],
 "metadata": {
  "kernelspec": {
   "display_name": ".venv",
   "language": "python",
   "name": "python3"
  },
  "language_info": {
   "codemirror_mode": {
    "name": "ipython",
    "version": 3
   },
   "file_extension": ".py",
   "mimetype": "text/x-python",
   "name": "python",
   "nbconvert_exporter": "python",
   "pygments_lexer": "ipython3",
   "version": "3.12.9"
  }
 },
 "nbformat": 4,
 "nbformat_minor": 2
}
